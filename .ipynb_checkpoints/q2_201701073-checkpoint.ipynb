{
 "cells": [
  {
   "cell_type": "code",
   "execution_count": 2,
   "metadata": {},
   "outputs": [],
   "source": [
    "import random as rd\n",
    "import numpy as np\n",
    "import math\n",
    "import matplotlib.pyplot as plt"
   ]
  },
  {
   "cell_type": "markdown",
   "metadata": {},
   "source": [
    "# Initialization"
   ]
  },
  {
   "cell_type": "code",
   "execution_count": 3,
   "metadata": {},
   "outputs": [],
   "source": [
    "S0 = 100\n",
    "r = 0.06\n",
    "K = 100\n",
    "sigma = 0.25\n",
    "N = 252\n",
    "n = 252\n",
    "mean = (r - sigma*sigma/2)/N\n",
    "var = sigma/math.sqrt(N)"
   ]
  },
  {
   "cell_type": "markdown",
   "metadata": {},
   "source": [
    "# Monte Carlo and Control Variate Technique\n"
   ]
  },
  {
   "cell_type": "code",
   "execution_count": 37,
   "metadata": {},
   "outputs": [
    {
     "name": "stdout",
     "output_type": "stream",
     "text": [
      "\n",
      "We will do the monte carlo  63  times.\n",
      "Monte Carlo Result :  8.467968170996537\n",
      "Control Variate Technique :  [9.36842647]\n",
      "\n",
      "We will do the monte carlo  625  times.\n",
      "Monte Carlo Result :  7.363926943366971\n",
      "Control Variate Technique :  [7.60024916]\n",
      "\n",
      "We will do the monte carlo  6250  times.\n",
      "Monte Carlo Result :  7.393492009190959\n",
      "Control Variate Technique :  [7.4412912]\n",
      "\n",
      "We will do the monte carlo  62500  times.\n",
      "Monte Carlo Result :  7.360615407734894\n",
      "Control Variate Technique :  [7.41130659]\n"
     ]
    }
   ],
   "source": [
    "error = [1e-3,1e-4,1e-5,1e-6]\n",
    "ans = []\n",
    "ans2 = []\n",
    "for e in range(len(error)):\n",
    "    k = math.ceil(sigma*sigma/error[e])\n",
    "    print(\"\")\n",
    "    print(\"We will do the monte carlo \",k,\" times.\")\n",
    "    asian = []\n",
    "    asian_r = []\n",
    "    V = []\n",
    "    for j in range(k):\n",
    "        print(j,end=\"\\r\")\n",
    "        \n",
    "        #this is for monte catlo \n",
    "        d = np.random.normal(mean,var,n) \n",
    "        sd = [S0]\n",
    "        for i in range(len(d)):\n",
    "            sd.append(sd[i]*math.exp(d[i]))\n",
    "    \n",
    "        asian.append(math.exp(-r*n/N)*max(0,sum(sd)/n-K))\n",
    "        V.append(sum(sd))\n",
    "        \n",
    "    print(\"Monte Carlo Result : \",sum(asian)/k)\n",
    "    ans.append(sum(asian)/k)\n",
    "    \n",
    "    # this is for Control Variate Technique\n",
    "    V = np.asarray(V).reshape(len(V),1)\n",
    "    asian = np.asarray(asian).reshape(len(asian),1)\n",
    "    c = np.cov(V.T,asian.T)[0][1]/np.var(V)\n",
    "    mu = S0*(1- math.exp(r*(n+1)/N))/(1-math.exp(r/N))\n",
    "    z = asian + c*np.subtract(V,mu)\n",
    "    asian_r.append(sum(z)/k)\n",
    "    print(\"Control Variate Technique : \",sum(z)/k)"
   ]
  }
 ],
 "metadata": {
  "kernelspec": {
   "display_name": "Python 3",
   "language": "python",
   "name": "python3"
  },
  "language_info": {
   "codemirror_mode": {
    "name": "ipython",
    "version": 3
   },
   "file_extension": ".py",
   "mimetype": "text/x-python",
   "name": "python",
   "nbconvert_exporter": "python",
   "pygments_lexer": "ipython3",
   "version": "3.7.3"
  }
 },
 "nbformat": 4,
 "nbformat_minor": 2
}
