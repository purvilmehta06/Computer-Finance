{
 "cells": [
  {
   "cell_type": "code",
   "execution_count": 1,
   "metadata": {},
   "outputs": [],
   "source": [
    "import random as rd\n",
    "import numpy as np\n",
    "import math\n",
    "import matplotlib.pyplot as plt"
   ]
  },
  {
   "cell_type": "markdown",
   "metadata": {},
   "source": [
    "# Initialization"
   ]
  },
  {
   "cell_type": "code",
   "execution_count": 2,
   "metadata": {},
   "outputs": [],
   "source": [
    "S0 = 100\n",
    "r = 0.06\n",
    "K = 100\n",
    "sigma = 0.25\n",
    "N = 252\n",
    "n = 252\n",
    "mean = (r - sigma*sigma/2)/N\n",
    "var = sigma/math.sqrt(N)"
   ]
  },
  {
   "cell_type": "markdown",
   "metadata": {},
   "source": [
    "# Monte Carlo\n"
   ]
  },
  {
   "cell_type": "code",
   "execution_count": 3,
   "metadata": {},
   "outputs": [
    {
     "name": "stdout",
     "output_type": "stream",
     "text": [
      "\n",
      "We will do the monte carlo  63  times.\n",
      "Monte Carlo Result :  18.25243784942265\n",
      "\n",
      "We will do the monte carlo  625  times.\n",
      "Monte Carlo Result :  21.029474712187206\n",
      "\n",
      "We will do the monte carlo  6250  times.\n",
      "Monte Carlo Result :  20.733551939312097\n",
      "\n",
      "We will do the monte carlo  62500  times.\n",
      "Monte Carlo Result :  20.318708224977215\n"
     ]
    }
   ],
   "source": [
    "error = [1e-3,1e-4,1e-5,1e-6]\n",
    "ans = []\n",
    "for e in range(len(error)):\n",
    "    k = math.ceil(sigma*sigma/error[e])\n",
    "    print(\"\")\n",
    "    print(\"We will do the monte carlo \",k,\" times.\")\n",
    "    asian = []\n",
    "    for j in range(k):\n",
    "        print(j,end=\"\\r\")\n",
    "        \n",
    "        #this is for monte catlo \n",
    "        d = np.random.normal(mean,var,n) \n",
    "        sd = [S0]\n",
    "        for i in range(len(d)):\n",
    "            sd.append(sd[i]*math.exp(d[i]))\n",
    "    \n",
    "        asian.append(math.exp(-r*n/N)*(sd[n]-min(sd)))\n",
    "        \n",
    "    print(\"Monte Carlo Result : \",sum(asian)/k)\n",
    "    ans.append(sum(asian)/k)\n",
    "    "
   ]
  },
  {
   "cell_type": "code",
   "execution_count": null,
   "metadata": {},
   "outputs": [],
   "source": []
  }
 ],
 "metadata": {
  "kernelspec": {
   "display_name": "Python 3",
   "language": "python",
   "name": "python3"
  },
  "language_info": {
   "codemirror_mode": {
    "name": "ipython",
    "version": 3
   },
   "file_extension": ".py",
   "mimetype": "text/x-python",
   "name": "python",
   "nbconvert_exporter": "python",
   "pygments_lexer": "ipython3",
   "version": "3.7.3"
  }
 },
 "nbformat": 4,
 "nbformat_minor": 2
}
