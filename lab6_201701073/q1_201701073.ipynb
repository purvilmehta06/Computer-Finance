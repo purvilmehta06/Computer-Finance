{
 "cells": [
  {
   "cell_type": "code",
   "execution_count": 120,
   "metadata": {},
   "outputs": [],
   "source": [
    "import random as rd\n",
    "import numpy as np\n",
    "import math\n",
    "import matplotlib.pyplot as plt"
   ]
  },
  {
   "cell_type": "markdown",
   "metadata": {},
   "source": [
    "# Initialization"
   ]
  },
  {
   "cell_type": "code",
   "execution_count": 64,
   "metadata": {},
   "outputs": [],
   "source": [
    "S0 = 50\n",
    "r = 0.05\n",
    "K = 50\n",
    "V = 45\n",
    "sigma = 0.3\n",
    "N = 252\n",
    "n = 252\n",
    "mean = (r - sigma*sigma/2)/N\n",
    "var = sigma/math.sqrt(N)"
   ]
  },
  {
   "cell_type": "markdown",
   "metadata": {},
   "source": [
    "# Monte Carlo and Antithetic Variables Variance Reduction Technique\n"
   ]
  },
  {
   "cell_type": "code",
   "execution_count": 130,
   "metadata": {},
   "outputs": [
    {
     "name": "stdout",
     "output_type": "stream",
     "text": [
      "The BSM price for the same call option is 7.11563.\n",
      "\n",
      "We will do the monte carlo  90  times.\n",
      "Monte Carlo Result :  7.546872640444083\n",
      "Efficiency will be 93.93950162608114\n",
      "Antithetic Variables Variance Reduction Technique Result :  6.3733127652118435\n",
      "Efficiency will be 89.56779322718921\n",
      "\n",
      "We will do the monte carlo  900  times.\n",
      "Monte Carlo Result :  7.4564148374066495\n",
      "Efficiency will be 95.2107566384614\n",
      "Antithetic Variables Variance Reduction Technique Result :  7.0397505439251375\n",
      "Efficiency will be 98.93362279833461\n",
      "\n",
      "We will do the monte carlo  9000  times.\n",
      "Monte Carlo Result :  7.086473306918725\n",
      "Efficiency will be 99.59024439042959\n",
      "Antithetic Variables Variance Reduction Technique Result :  7.091100552424674\n",
      "Efficiency will be 99.65527370625895\n",
      "\n",
      "We will do the monte carlo  90000  times.\n",
      "Monte Carlo Result :  7.07681451734786\n",
      "Efficiency will be 99.45450392091578\n",
      "Antithetic Variables Variance Reduction Technique Result :  7.113689652832749\n",
      "Efficiency will be 99.97273119643305\n"
     ]
    }
   ],
   "source": [
    "print(\"The BSM price for the same call option is 7.11563.\")\n",
    "error = [1e-3,1e-4,1e-5,1e-6]\n",
    "ans = []\n",
    "ans2 = []\n",
    "for e in range(len(error)):\n",
    "    k = math.ceil(sigma*sigma/error[e])\n",
    "    print(\"\")\n",
    "    print(\"We will do the monte carlo \",k,\" times.\")\n",
    "    down_in = []\n",
    "    down_out = []\n",
    "    down_in_r = []\n",
    "    down_out_r = []\n",
    "    for j in range(k):\n",
    "        print(j,end=\"\\r\")\n",
    "        \n",
    "        #this is for monte catlo \n",
    "        d = np.random.normal(mean,var,n) \n",
    "        sd = [S0]\n",
    "        I = 0\n",
    "        J = 1\n",
    "        for i in range(len(d)):\n",
    "            sd.append(sd[i]*math.exp(d[i]))\n",
    "            if (sd[i]<V): \n",
    "                I = 1\n",
    "            if(sd[i]<V):\n",
    "                J = 0\n",
    "        down_in.append(math.exp(-r*n/N)*I*max(0,sd[n]-K))\n",
    "        down_out.append(math.exp(-r*n/N)*J*max(0,sd[n]-K))\n",
    "        \n",
    "        #this is for Antithetic Variables Variance Reduction Technique\n",
    "        d2 = 2*(r - sigma*sigma/2)/N - d \n",
    "        sd2 = [S0]\n",
    "        I2 = 0\n",
    "        J2 = 1\n",
    "        for i in range(len(d2)):\n",
    "            sd2.append(sd2[i]*math.exp(d2[i]))\n",
    "            if (sd2[i]<V): \n",
    "                I2 = 1\n",
    "            if(sd2[i]<V):\n",
    "                J2 = 0\n",
    "        down_in_r.append((math.exp(-r*n/N)*I2*max(0,sd2[n]-K)+down_in[j])/2)\n",
    "        down_out_r.append((math.exp(-r*n/N)*J2*max(0,sd2[n]-K)+down_out[j])/2)\n",
    "        \n",
    "    print(\"Monte Carlo Result : \",(sum(down_in)+sum(down_out))/k)\n",
    "    print(\"Efficiency will be\",100-abs((sum(down_in)+sum(down_out))/k-7.11563)/0.0711563)\n",
    "    print(\"Antithetic Variables Variance Reduction Technique Result : \",(sum(down_in_r)+sum(down_out_r))/k)\n",
    "    print(\"Efficiency will be\",100-abs((sum(down_in_r)+sum(down_out_r))/k-7.11563)/0.0711563)\n",
    "    ans.append((sum(down_in)+sum(down_out))/k)\n",
    "    ans2.append((sum(down_in_r)+sum(down_out_r))/k)\n",
    "    "
   ]
  },
  {
   "cell_type": "code",
   "execution_count": 131,
   "metadata": {},
   "outputs": [
    {
     "data": {
      "image/png": "[encoded data removed]",
      "text/plain": [
       "<Figure size 432x288 with 1 Axes>"
      ]
     },
     "metadata": {
      "needs_background": "light"
     },
     "output_type": "display_data"
    }
   ],
   "source": [
    "k = [90,900,9000,90000]\n",
    "plt.plot(k,ans,'bo',label='Monte Carlo')\n",
    "plt.plot(k,ans2,'ro',label='AVVRT')\n",
    "plt.hlines(7.11563, 900, 90000, colors='k', linestyles='solid', label='BSM Value = 7.11563')\n",
    "plt.grid()\n",
    "plt.legend()\n",
    "plt.show()"
   ]
  }
 ],
 "metadata": {
  "kernelspec": {
   "display_name": "Python 3",
   "language": "python",
   "name": "python3"
  },
  "language_info": {
   "codemirror_mode": {
    "name": "ipython",
    "version": 3
   },
   "file_extension": ".py",
   "mimetype": "text/x-python",
   "name": "python",
   "nbconvert_exporter": "python",
   "pygments_lexer": "ipython3",
   "version": "3.7.3"
  }
 },
 "nbformat": 4,
 "nbformat_minor": 2
}
